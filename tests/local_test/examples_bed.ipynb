{
 "cells": [
  {
   "cell_type": "code",
   "execution_count": 1,
   "metadata": {},
   "outputs": [],
   "source": [
    "FASTA_hg38 = \"/Users/ckuo/genome_data/GRCh38.primary_assembly.genome.fa.gz\""
   ]
  },
  {
   "cell_type": "markdown",
   "metadata": {},
   "source": [
    "Get the sequences in FASTA format from a BED file"
   ]
  },
  {
   "cell_type": "code",
   "execution_count": 3,
   "metadata": {},
   "outputs": [
    {
     "name": "stderr",
     "output_type": "stream",
     "text": [
      "100%|██████████| 51662809/51662809 [00:35<00:00, 1466816.73it/s]\n"
     ]
    }
   ],
   "source": [
    "from genomkit import GRegions\n",
    "\n",
    "exons = GRegions(name=\"exons\", load=\"hg38_exons.bed\")\n",
    "exon_seqs = exons.get_GSequences(FASTA_file=FASTA_hg38)\n",
    "exon_seqs.write_FASTA(filename=\"hg38_exons.fasta\")"
   ]
  },
  {
   "cell_type": "markdown",
   "metadata": {},
   "source": [
    "Get TSSs (Transcription Start Sites) and TTSs (Transcription Termination Sites) of genes in a BED file"
   ]
  },
  {
   "cell_type": "code",
   "execution_count": 4,
   "metadata": {},
   "outputs": [],
   "source": [
    "from genomkit import GRegions\n",
    "\n",
    "genes = GRegions(name=\"genes\", load=\"hg38_genes.bed\")\n",
    "TSSs = genes.resize(extend_upstream=50, extend_downstream=50,\n",
    "                    center=\"5prime\", inplace=False)\n",
    "TTSs = genes.resize(extend_upstream=50, extend_downstream=50,\n",
    "                    center=\"3prime\", inplace=False)\n",
    "TSSs.write(filename=\"hg38_TSSs.bed\")\n",
    "TTSs.write(filename=\"hg38_TTSs.bed\")"
   ]
  },
  {
   "cell_type": "markdown",
   "metadata": {},
   "source": [
    "Merging the nearby peaks in a BED file"
   ]
  },
  {
   "cell_type": "code",
   "execution_count": 6,
   "metadata": {},
   "outputs": [],
   "source": [
    "from genomkit import GRegions\n",
    "\n",
    "peaks = GRegions(name=\"peaks\", load=\"peaks.bed\")\n",
    "clustered_peaks = peaks.cluster(max_distance=50)\n",
    "clustered_peaks.write(filename=\"clustered_peaks.bed\")"
   ]
  },
  {
   "cell_type": "markdown",
   "metadata": {},
   "source": [
    "Sampling the regions randomly in a BED file"
   ]
  },
  {
   "cell_type": "code",
   "execution_count": 8,
   "metadata": {},
   "outputs": [],
   "source": [
    "from genomkit import GRegions\n",
    "\n",
    "peaks = GRegions(name=\"peaks\", load=\"peaks.bed\")\n",
    "samples = peaks.sampling(size=100, seed=42)\n",
    "samples.write(filename=\"peaks_100_samples.bed\")"
   ]
  },
  {
   "cell_type": "markdown",
   "metadata": {},
   "source": [
    "Find the peaks in one BED file close to the regions in another BED file"
   ]
  },
  {
   "cell_type": "code",
   "execution_count": 9,
   "metadata": {},
   "outputs": [],
   "source": [
    "from genomkit import GRegions\n",
    "\n",
    "promoters = GRegions(name=\"promoters\", load=\"hg38_promoters.bed\")\n",
    "promoters.extend(upstream=1000, downstream=1000, inplace=True)\n",
    "peaks = GRegions(name=\"peaks\", load=\"peaks.bed\")\n",
    "close_peaks = peaks.intersect(target=promoters, mode=\"ORIGINAL\")\n",
    "close_peaks.write(filename=\"peaks_close_to_promoters.bed\")"
   ]
  },
  {
   "cell_type": "markdown",
   "metadata": {},
   "source": [
    "Generate a heapmap from two BED files: one BED file is used as windows and the other used as the signal"
   ]
  },
  {
   "cell_type": "code",
   "execution_count": 2,
   "metadata": {},
   "outputs": [
    {
     "name": "stderr",
     "output_type": "stream",
     "text": [
      "Calculating coverage: 100%|██████████| 48709/48709 [00:49<00:00, 977.10it/s] \n"
     ]
    },
    {
     "data": {
      "text/plain": [
       "<Axes: >"
      ]
     },
     "execution_count": 2,
     "metadata": {},
     "output_type": "execute_result"
    },
    {
     "data": {
      "image/png": "[encoded data removed]",
      "text/plain": [
       "<Figure size 640x480 with 2 Axes>"
      ]
     },
     "metadata": {},
     "output_type": "display_data"
    }
   ],
   "source": [
    "from genomkit import GRegions, GCoverages\n",
    "import seaborn as sns\n",
    "# Generate a heatmap from two BED files: one BED file is used as windows and the other used as the signal\n",
    "DMLs = GRegions(name=\"DMLs\", load=\"DML.bed\")\n",
    "DMLs.sort()\n",
    "DMLs.extend(upstream=5, downstream=5, inplace=True)\n",
    "TSSs = GRegions(name=\"genes\", load=\"/Users/ckuo/rgtdata/mm10/genes_Gencode_mm10.bed\")\n",
    "TSSs.resize(extend_upstream=1000, extend_downstream=1000,\n",
    "                    center=\"5prime\", inplace=True)\n",
    "TSSs.sampling(size=10000)\n",
    "# TSSs.filter_by_names(names=, inplace=True)\n",
    "cov = GCoverages(bin_size=1)\n",
    "cov.calculate_coverage_GRegions(regions=TSSs, scores=DMLs)\n",
    "cov.flip_negative_regions()\n",
    "df = cov.get_dataframe()\n",
    "sns.heatmap(df, xticklabels=False, yticklabels=False, cmap=\"PiYG\")\n",
    "# sns.heatmap(df, annot=True)"
   ]
  },
  {
   "cell_type": "code",
   "execution_count": 7,
   "metadata": {},
   "outputs": [
    {
     "data": {
      "text/plain": [
       "-0.661197579563083"
      ]
     },
     "execution_count": 7,
     "metadata": {},
     "output_type": "execute_result"
    }
   ],
   "source": [
    "DMLs.elements[1].score"
   ]
  },
  {
   "cell_type": "code",
   "execution_count": 8,
   "metadata": {},
   "outputs": [
    {
     "data": {
      "text/plain": [
       "0.338802420436917"
      ]
     },
     "execution_count": 8,
     "metadata": {},
     "output_type": "execute_result"
    }
   ],
   "source": [
    "float('-0.661197579563083') + 1"
   ]
  },
  {
   "cell_type": "code",
   "execution_count": 5,
   "metadata": {},
   "outputs": [
    {
     "data": {
      "text/plain": [
       "<Axes: >"
      ]
     },
     "execution_count": 5,
     "metadata": {},
     "output_type": "execute_result"
    },
    {
     "data": {
      "image/png": "[encoded data removed]",
      "text/plain": [
       "<Figure size 640x480 with 2 Axes>"
      ]
     },
     "metadata": {},
     "output_type": "display_data"
    }
   ],
   "source": []
  },
  {
   "cell_type": "code",
   "execution_count": 6,
   "metadata": {},
   "outputs": [
    {
     "data": {
      "text/plain": [
       "0.0"
      ]
     },
     "execution_count": 6,
     "metadata": {},
     "output_type": "execute_result"
    }
   ],
   "source": [
    "df.sum().sum()"
   ]
  }
 ],
 "metadata": {
  "kernelspec": {
   "display_name": "genomkit",
   "language": "python",
   "name": "python3"
  },
  "language_info": {
   "codemirror_mode": {
    "name": "ipython",
    "version": 3
   },
   "file_extension": ".py",
   "mimetype": "text/x-python",
   "name": "python",
   "nbconvert_exporter": "python",
   "pygments_lexer": "ipython3",
   "version": "3.10.0"
  }
 },
 "nbformat": 4,
 "nbformat_minor": 2
}
