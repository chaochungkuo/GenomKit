{
 "cells": [
  {
   "cell_type": "code",
   "execution_count": 2,
   "metadata": {},
   "outputs": [],
   "source": [
    "GTF_hg38 = \"/Users/ckuo/genome_data/gencode.v45.primary_assembly.annotation.gtf.gz\""
   ]
  },
  {
   "cell_type": "markdown",
   "metadata": {},
   "source": [
    "Get all the genes from a GTF file"
   ]
  },
  {
   "cell_type": "code",
   "execution_count": 3,
   "metadata": {},
   "outputs": [
    {
     "name": "stderr",
     "output_type": "stream",
     "text": [
      "Loading Data: 100%|██████████| 3428060/3428060 [00:23<00:00, 147905.28it/s]\n"
     ]
    }
   ],
   "source": [
    "from genomkit import GAnnotation\n",
    "\n",
    "gtf = GAnnotation(file_path=GTF_hg38, file_format=\"gtf\")\n",
    "genes = gtf.get_regions(element_type=\"gene\")\n",
    "genes.write(filename=\"hg38_genes.bed\")"
   ]
  },
  {
   "cell_type": "markdown",
   "metadata": {},
   "source": [
    "Extract exon, intron, and intergenetic regions in BED format from a GTF file"
   ]
  },
  {
   "cell_type": "code",
   "execution_count": 4,
   "metadata": {},
   "outputs": [
    {
     "name": "stderr",
     "output_type": "stream",
     "text": [
      "Loading Data: 100%|██████████| 3428060/3428060 [00:23<00:00, 145496.08it/s]\n"
     ]
    }
   ],
   "source": [
    "from genomkit import GRegions\n",
    "from genomkit import GAnnotation\n",
    "\n",
    "gtf = GAnnotation(file_path=GTF_hg38, file_format=\"gtf\")\n",
    "genes = gtf.get_regions(element_type=\"gene\")\n",
    "exons = gtf.get_regions(element_type=\"exon\")\n",
    "introns = genes.subtract(exons, inplace=False)\n",
    "\n",
    "chromosomes = GRegions(name=\"chromosomes\")\n",
    "chromosomes.get_chromosomes(organism=\"hg38\")\n",
    "intergenic_regions = chromosomes.subtract(genes, inplace=False)\n",
    "exons.write(filename=\"hg38_exons.bed\")\n",
    "introns.write(filename=\"hg38_introns.bed\")\n",
    "intergenic_regions.write(filename=\"hg38_intergenic_regions.bed\")\n"
   ]
  },
  {
   "cell_type": "markdown",
   "metadata": {},
   "source": [
    "Get all promoter regions in BED format from a GTF file"
   ]
  },
  {
   "cell_type": "code",
   "execution_count": 5,
   "metadata": {},
   "outputs": [
    {
     "name": "stderr",
     "output_type": "stream",
     "text": [
      "Loading Data: 100%|██████████| 3428060/3428060 [00:23<00:00, 143017.55it/s]\n"
     ]
    }
   ],
   "source": [
    "from genomkit import GAnnotation\n",
    "\n",
    "gtf = GAnnotation(file_path=GTF_hg38, file_format=\"gtf\")\n",
    "genes = gtf.get_regions(element_type=\"gene\")\n",
    "promoters = genes.resize(extend_upstream=2000,\n",
    "                        extend_downstream=0,\n",
    "                        center=\"5prime\", inplace=False)\n",
    "promoters.write(filename=\"hg38_promoters.bed\")"
   ]
  },
  {
   "cell_type": "markdown",
   "metadata": {},
   "source": [
    "Extract the genes by their biotypes from a GTF file"
   ]
  },
  {
   "cell_type": "code",
   "execution_count": 6,
   "metadata": {},
   "outputs": [
    {
     "name": "stderr",
     "output_type": "stream",
     "text": [
      "Loading Data: 100%|██████████| 3428060/3428060 [00:24<00:00, 138936.39it/s]\n"
     ]
    }
   ],
   "source": [
    "from genomkit import GAnnotation\n",
    "\n",
    "gtf = GAnnotation(file_path=GTF_hg38, file_format=\"gtf\")\n",
    "target_biotypes = [\"protein_coding\", \"lncRNA\", \"snRNA\", \"miRNA\"]\n",
    "for biotype in target_biotypes:\n",
    "    genes = gtf.get_regions(element_type=\"gene\",\n",
    "                            attribute=\"gene_type\", value=biotype)\n",
    "    genes.write(filename=\"hg38_genes_\"+biotype+\".bed\")"
   ]
  },
  {
   "cell_type": "code",
   "execution_count": null,
   "metadata": {},
   "outputs": [],
   "source": []
  },
  {
   "cell_type": "code",
   "execution_count": null,
   "metadata": {},
   "outputs": [],
   "source": []
  },
  {
   "cell_type": "code",
   "execution_count": null,
   "metadata": {},
   "outputs": [],
   "source": [
    "from genomkit import GRegions, GCoverages\n",
    "\n",
    "# Generate a heatmap from two BED files: one BED file is used as windows and the other used as the signal\n",
    "DMSs = GRegions(name=\"DMSs\", load=\"/Users/ckuo/github/genomkit/tests/test_files/bed/example.bed\")\n",
    "DMSs.sort()\n",
    "TSSs = GRegions(name=\"TSSs\", load=\"/Users/ckuo/github/genomkit/tests/test_files/bed/example.bed\")\n",
    "TSSs.sort()\n",
    "cov = GCoverages(bin_size=2)\n",
    "cov.calculate_coverage_GRegions(regions=TSSs, scores=DMSs)\n",
    "# for r, cov in cov.coverage.items():\n",
    "#     print(r)\n",
    "#     print(cov)\n",
    "df = cov.get_dataframe()\n",
    "print(df)"
   ]
  }
 ],
 "metadata": {
  "kernelspec": {
   "display_name": "genomkit",
   "language": "python",
   "name": "python3"
  },
  "language_info": {
   "codemirror_mode": {
    "name": "ipython",
    "version": 3
   },
   "file_extension": ".py",
   "mimetype": "text/x-python",
   "name": "python",
   "nbconvert_exporter": "python",
   "pygments_lexer": "ipython3",
   "version": "3.10.0"
  }
 },
 "nbformat": 4,
 "nbformat_minor": 2
}
